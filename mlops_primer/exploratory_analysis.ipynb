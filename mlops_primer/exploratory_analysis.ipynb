{
 "cells": [
  {
   "cell_type": "markdown",
   "id": "a7feca0d",
   "metadata": {},
   "source": [
    "# Exploratory Data Analysis"
   ]
  },
  {
   "cell_type": "markdown",
   "id": "4d65cd1d",
   "metadata": {},
   "source": [
    "The purpose of this section of the notebook is to provide some key highlights of the baseline data being used. This showcases the various attributes, any specific transformations, and key relationships."
   ]
  },
  {
   "cell_type": "code",
   "execution_count": 1,
   "id": "f7b8fb7b",
   "metadata": {},
   "outputs": [],
   "source": [
    "# Import the relevant libraries, and load the dataset\n",
    "import pandas as pd\n",
    "import seaborn as sns\n",
    "import math\n",
    "\n",
    "# Plotting\n",
    "import matplotlib.pyplot as plt\n",
    "# %matplotlib inline\n",
    "import seaborn as sns\n",
    "# morancolor=sns.color_palette(['#66260b', '#cb8034', '#ddc08d', '#9c886f', '#47261a','#363634', '#524636', '#ac7330', '#b19a78', '#d1c5ab'])\n",
    "# sns.set_theme(style=\"whitegrid\")#, palette=morancolor)\n",
    "# plt.rcParams['font.family']='serif'\n",
    "# plt.rcParams['figure.dpi'] =100 # high resolution\n",
    "\n",
    "df = pd.read_csv('./../datasets/original/WA_Fn-UseC_-Telco-Customer-Churn.csv')"
   ]
  },
  {
   "cell_type": "markdown",
   "id": "47dce6f9",
   "metadata": {},
   "source": [
    "As can be seen below, the dataset contains 21 columns and 7,043 rows"
   ]
  },
  {
   "cell_type": "code",
   "execution_count": 2,
   "id": "5298373b",
   "metadata": {},
   "outputs": [
    {
     "data": {
      "text/plain": [
       "(7043, 21)"
      ]
     },
     "execution_count": 2,
     "metadata": {},
     "output_type": "execute_result"
    }
   ],
   "source": [
    "df.shape"
   ]
  },
  {
   "cell_type": "code",
   "execution_count": 3,
   "id": "ffeb2571",
   "metadata": {},
   "outputs": [
    {
     "name": "stdout",
     "output_type": "stream",
     "text": [
      "<class 'pandas.core.frame.DataFrame'>\n",
      "RangeIndex: 7043 entries, 0 to 7042\n",
      "Data columns (total 21 columns):\n",
      "customerID          7043 non-null object\n",
      "gender              7043 non-null object\n",
      "SeniorCitizen       7043 non-null int64\n",
      "Partner             7043 non-null object\n",
      "Dependents          7043 non-null object\n",
      "tenure              7043 non-null int64\n",
      "PhoneService        7043 non-null object\n",
      "MultipleLines       7043 non-null object\n",
      "InternetService     7043 non-null object\n",
      "OnlineSecurity      7043 non-null object\n",
      "OnlineBackup        7043 non-null object\n",
      "DeviceProtection    7043 non-null object\n",
      "TechSupport         7043 non-null object\n",
      "StreamingTV         7043 non-null object\n",
      "StreamingMovies     7043 non-null object\n",
      "Contract            7043 non-null object\n",
      "PaperlessBilling    7043 non-null object\n",
      "PaymentMethod       7043 non-null object\n",
      "MonthlyCharges      7043 non-null float64\n",
      "TotalCharges        7043 non-null object\n",
      "Churn               7043 non-null object\n",
      "dtypes: float64(1), int64(2), object(18)\n",
      "memory usage: 1.1+ MB\n"
     ]
    }
   ],
   "source": [
    "df.info()"
   ]
  },
  {
   "cell_type": "markdown",
   "id": "bdd81b43",
   "metadata": {},
   "source": [
    "## Attribute Definitions\n",
    "- **customerID** is the unique identifier per customer.\n",
    "- **MonthlyCharges** and **TotalCharges** identify the monthly and total spending to date for the population. Both should be float attributes.\n",
    "- **tenure** is how long the customer has been with the service, measured in months.\n",
    "- All other 16 attributes are categorical and highlight customer attributes (e.g. Senior Citizen) or usage of various features or (e.g. Phone Service)."
   ]
  },
  {
   "cell_type": "code",
   "execution_count": 4,
   "id": "d1afabf7",
   "metadata": {},
   "outputs": [
    {
     "data": {
      "text/html": [
       "<div>\n",
       "<style scoped>\n",
       "    .dataframe tbody tr th:only-of-type {\n",
       "        vertical-align: middle;\n",
       "    }\n",
       "\n",
       "    .dataframe tbody tr th {\n",
       "        vertical-align: top;\n",
       "    }\n",
       "\n",
       "    .dataframe thead th {\n",
       "        text-align: right;\n",
       "    }\n",
       "</style>\n",
       "<table border=\"1\" class=\"dataframe\">\n",
       "  <thead>\n",
       "    <tr style=\"text-align: right;\">\n",
       "      <th></th>\n",
       "      <th>customerID</th>\n",
       "      <th>gender</th>\n",
       "      <th>SeniorCitizen</th>\n",
       "      <th>Partner</th>\n",
       "      <th>Dependents</th>\n",
       "      <th>tenure</th>\n",
       "      <th>PhoneService</th>\n",
       "      <th>MultipleLines</th>\n",
       "      <th>InternetService</th>\n",
       "      <th>OnlineSecurity</th>\n",
       "      <th>...</th>\n",
       "      <th>DeviceProtection</th>\n",
       "      <th>TechSupport</th>\n",
       "      <th>StreamingTV</th>\n",
       "      <th>StreamingMovies</th>\n",
       "      <th>Contract</th>\n",
       "      <th>PaperlessBilling</th>\n",
       "      <th>PaymentMethod</th>\n",
       "      <th>MonthlyCharges</th>\n",
       "      <th>TotalCharges</th>\n",
       "      <th>Churn</th>\n",
       "    </tr>\n",
       "  </thead>\n",
       "  <tbody>\n",
       "    <tr>\n",
       "      <th>1858</th>\n",
       "      <td>7517-SAWMO</td>\n",
       "      <td>Female</td>\n",
       "      <td>0</td>\n",
       "      <td>Yes</td>\n",
       "      <td>No</td>\n",
       "      <td>19</td>\n",
       "      <td>Yes</td>\n",
       "      <td>No</td>\n",
       "      <td>Fiber optic</td>\n",
       "      <td>Yes</td>\n",
       "      <td>...</td>\n",
       "      <td>No</td>\n",
       "      <td>No</td>\n",
       "      <td>No</td>\n",
       "      <td>No</td>\n",
       "      <td>Month-to-month</td>\n",
       "      <td>Yes</td>\n",
       "      <td>Electronic check</td>\n",
       "      <td>73.20</td>\n",
       "      <td>1441.1</td>\n",
       "      <td>Yes</td>\n",
       "    </tr>\n",
       "    <tr>\n",
       "      <th>1818</th>\n",
       "      <td>4450-MDZFX</td>\n",
       "      <td>Male</td>\n",
       "      <td>0</td>\n",
       "      <td>Yes</td>\n",
       "      <td>Yes</td>\n",
       "      <td>60</td>\n",
       "      <td>Yes</td>\n",
       "      <td>Yes</td>\n",
       "      <td>Fiber optic</td>\n",
       "      <td>No</td>\n",
       "      <td>...</td>\n",
       "      <td>No</td>\n",
       "      <td>No</td>\n",
       "      <td>No</td>\n",
       "      <td>No</td>\n",
       "      <td>Month-to-month</td>\n",
       "      <td>No</td>\n",
       "      <td>Bank transfer (automatic)</td>\n",
       "      <td>74.35</td>\n",
       "      <td>4453.3</td>\n",
       "      <td>No</td>\n",
       "    </tr>\n",
       "    <tr>\n",
       "      <th>4736</th>\n",
       "      <td>3050-RLLXC</td>\n",
       "      <td>Female</td>\n",
       "      <td>0</td>\n",
       "      <td>Yes</td>\n",
       "      <td>Yes</td>\n",
       "      <td>56</td>\n",
       "      <td>Yes</td>\n",
       "      <td>Yes</td>\n",
       "      <td>DSL</td>\n",
       "      <td>Yes</td>\n",
       "      <td>...</td>\n",
       "      <td>Yes</td>\n",
       "      <td>Yes</td>\n",
       "      <td>Yes</td>\n",
       "      <td>No</td>\n",
       "      <td>Two year</td>\n",
       "      <td>No</td>\n",
       "      <td>Credit card (automatic)</td>\n",
       "      <td>81.25</td>\n",
       "      <td>4620.4</td>\n",
       "      <td>No</td>\n",
       "    </tr>\n",
       "    <tr>\n",
       "      <th>2837</th>\n",
       "      <td>2002-MZHWP</td>\n",
       "      <td>Female</td>\n",
       "      <td>0</td>\n",
       "      <td>No</td>\n",
       "      <td>No</td>\n",
       "      <td>1</td>\n",
       "      <td>Yes</td>\n",
       "      <td>No</td>\n",
       "      <td>No</td>\n",
       "      <td>No internet service</td>\n",
       "      <td>...</td>\n",
       "      <td>No internet service</td>\n",
       "      <td>No internet service</td>\n",
       "      <td>No internet service</td>\n",
       "      <td>No internet service</td>\n",
       "      <td>Month-to-month</td>\n",
       "      <td>No</td>\n",
       "      <td>Mailed check</td>\n",
       "      <td>20.50</td>\n",
       "      <td>20.5</td>\n",
       "      <td>Yes</td>\n",
       "    </tr>\n",
       "    <tr>\n",
       "      <th>1821</th>\n",
       "      <td>3536-IQCTX</td>\n",
       "      <td>Male</td>\n",
       "      <td>1</td>\n",
       "      <td>Yes</td>\n",
       "      <td>No</td>\n",
       "      <td>32</td>\n",
       "      <td>Yes</td>\n",
       "      <td>Yes</td>\n",
       "      <td>Fiber optic</td>\n",
       "      <td>No</td>\n",
       "      <td>...</td>\n",
       "      <td>No</td>\n",
       "      <td>No</td>\n",
       "      <td>No</td>\n",
       "      <td>Yes</td>\n",
       "      <td>Month-to-month</td>\n",
       "      <td>No</td>\n",
       "      <td>Electronic check</td>\n",
       "      <td>85.30</td>\n",
       "      <td>2661.1</td>\n",
       "      <td>Yes</td>\n",
       "    </tr>\n",
       "  </tbody>\n",
       "</table>\n",
       "<p>5 rows × 21 columns</p>\n",
       "</div>"
      ],
      "text/plain": [
       "      customerID  gender  SeniorCitizen Partner Dependents  tenure  \\\n",
       "1858  7517-SAWMO  Female              0     Yes         No      19   \n",
       "1818  4450-MDZFX    Male              0     Yes        Yes      60   \n",
       "4736  3050-RLLXC  Female              0     Yes        Yes      56   \n",
       "2837  2002-MZHWP  Female              0      No         No       1   \n",
       "1821  3536-IQCTX    Male              1     Yes         No      32   \n",
       "\n",
       "     PhoneService MultipleLines InternetService       OnlineSecurity  ...  \\\n",
       "1858          Yes            No     Fiber optic                  Yes  ...   \n",
       "1818          Yes           Yes     Fiber optic                   No  ...   \n",
       "4736          Yes           Yes             DSL                  Yes  ...   \n",
       "2837          Yes            No              No  No internet service  ...   \n",
       "1821          Yes           Yes     Fiber optic                   No  ...   \n",
       "\n",
       "         DeviceProtection          TechSupport          StreamingTV  \\\n",
       "1858                   No                   No                   No   \n",
       "1818                   No                   No                   No   \n",
       "4736                  Yes                  Yes                  Yes   \n",
       "2837  No internet service  No internet service  No internet service   \n",
       "1821                   No                   No                   No   \n",
       "\n",
       "          StreamingMovies        Contract PaperlessBilling  \\\n",
       "1858                   No  Month-to-month              Yes   \n",
       "1818                   No  Month-to-month               No   \n",
       "4736                   No        Two year               No   \n",
       "2837  No internet service  Month-to-month               No   \n",
       "1821                  Yes  Month-to-month               No   \n",
       "\n",
       "                  PaymentMethod MonthlyCharges  TotalCharges Churn  \n",
       "1858           Electronic check          73.20        1441.1   Yes  \n",
       "1818  Bank transfer (automatic)          74.35        4453.3    No  \n",
       "4736    Credit card (automatic)          81.25        4620.4    No  \n",
       "2837               Mailed check          20.50          20.5   Yes  \n",
       "1821           Electronic check          85.30        2661.1   Yes  \n",
       "\n",
       "[5 rows x 21 columns]"
      ]
     },
     "execution_count": 4,
     "metadata": {},
     "output_type": "execute_result"
    }
   ],
   "source": [
    "df.sample(n=5)"
   ]
  },
  {
   "cell_type": "markdown",
   "id": "b88851fd",
   "metadata": {},
   "source": [
    "## Basic Transformations"
   ]
  },
  {
   "cell_type": "markdown",
   "id": "bce7c570",
   "metadata": {},
   "source": [
    "Converting **Total Charges** to a float attribute."
   ]
  },
  {
   "cell_type": "code",
   "execution_count": 6,
   "id": "fa040e90",
   "metadata": {},
   "outputs": [
    {
     "data": {
      "text/plain": [
       "dtype('float64')"
      ]
     },
     "execution_count": 6,
     "metadata": {},
     "output_type": "execute_result"
    }
   ],
   "source": [
    "df['TotalCharges'] = df['TotalCharges'].str.replace(r' ','0').astype(float)\n",
    "df['TotalCharges'].dtypes"
   ]
  },
  {
   "cell_type": "markdown",
   "id": "aeb83602",
   "metadata": {},
   "source": [
    "- Changing **Churn** to better represent a binary attribute with 1s and 0s vs. \"No\" or \"Yes\". This aids further computation.\n",
    "- Changing **Senior Citizen** to a categorical attribute (No/Yes) from 1s and 0s."
   ]
  },
  {
   "cell_type": "code",
   "execution_count": 7,
   "id": "415d9e07",
   "metadata": {},
   "outputs": [
    {
     "data": {
      "text/html": [
       "<div>\n",
       "<style scoped>\n",
       "    .dataframe tbody tr th:only-of-type {\n",
       "        vertical-align: middle;\n",
       "    }\n",
       "\n",
       "    .dataframe tbody tr th {\n",
       "        vertical-align: top;\n",
       "    }\n",
       "\n",
       "    .dataframe thead th {\n",
       "        text-align: right;\n",
       "    }\n",
       "</style>\n",
       "<table border=\"1\" class=\"dataframe\">\n",
       "  <thead>\n",
       "    <tr style=\"text-align: right;\">\n",
       "      <th></th>\n",
       "      <th>customerID</th>\n",
       "      <th>gender</th>\n",
       "      <th>SeniorCitizen</th>\n",
       "      <th>Partner</th>\n",
       "      <th>Dependents</th>\n",
       "      <th>tenure</th>\n",
       "      <th>PhoneService</th>\n",
       "      <th>MultipleLines</th>\n",
       "      <th>InternetService</th>\n",
       "      <th>OnlineSecurity</th>\n",
       "      <th>...</th>\n",
       "      <th>DeviceProtection</th>\n",
       "      <th>TechSupport</th>\n",
       "      <th>StreamingTV</th>\n",
       "      <th>StreamingMovies</th>\n",
       "      <th>Contract</th>\n",
       "      <th>PaperlessBilling</th>\n",
       "      <th>PaymentMethod</th>\n",
       "      <th>MonthlyCharges</th>\n",
       "      <th>TotalCharges</th>\n",
       "      <th>Churn</th>\n",
       "    </tr>\n",
       "  </thead>\n",
       "  <tbody>\n",
       "    <tr>\n",
       "      <th>0</th>\n",
       "      <td>7590-VHVEG</td>\n",
       "      <td>Female</td>\n",
       "      <td>No</td>\n",
       "      <td>Yes</td>\n",
       "      <td>No</td>\n",
       "      <td>1</td>\n",
       "      <td>No</td>\n",
       "      <td>No phone service</td>\n",
       "      <td>DSL</td>\n",
       "      <td>No</td>\n",
       "      <td>...</td>\n",
       "      <td>No</td>\n",
       "      <td>No</td>\n",
       "      <td>No</td>\n",
       "      <td>No</td>\n",
       "      <td>Month-to-month</td>\n",
       "      <td>Yes</td>\n",
       "      <td>Electronic check</td>\n",
       "      <td>29.85</td>\n",
       "      <td>29.85</td>\n",
       "      <td>0</td>\n",
       "    </tr>\n",
       "    <tr>\n",
       "      <th>1</th>\n",
       "      <td>5575-GNVDE</td>\n",
       "      <td>Male</td>\n",
       "      <td>No</td>\n",
       "      <td>No</td>\n",
       "      <td>No</td>\n",
       "      <td>34</td>\n",
       "      <td>Yes</td>\n",
       "      <td>No</td>\n",
       "      <td>DSL</td>\n",
       "      <td>Yes</td>\n",
       "      <td>...</td>\n",
       "      <td>Yes</td>\n",
       "      <td>No</td>\n",
       "      <td>No</td>\n",
       "      <td>No</td>\n",
       "      <td>One year</td>\n",
       "      <td>No</td>\n",
       "      <td>Mailed check</td>\n",
       "      <td>56.95</td>\n",
       "      <td>1889.50</td>\n",
       "      <td>0</td>\n",
       "    </tr>\n",
       "    <tr>\n",
       "      <th>2</th>\n",
       "      <td>3668-QPYBK</td>\n",
       "      <td>Male</td>\n",
       "      <td>No</td>\n",
       "      <td>No</td>\n",
       "      <td>No</td>\n",
       "      <td>2</td>\n",
       "      <td>Yes</td>\n",
       "      <td>No</td>\n",
       "      <td>DSL</td>\n",
       "      <td>Yes</td>\n",
       "      <td>...</td>\n",
       "      <td>No</td>\n",
       "      <td>No</td>\n",
       "      <td>No</td>\n",
       "      <td>No</td>\n",
       "      <td>Month-to-month</td>\n",
       "      <td>Yes</td>\n",
       "      <td>Mailed check</td>\n",
       "      <td>53.85</td>\n",
       "      <td>108.15</td>\n",
       "      <td>1</td>\n",
       "    </tr>\n",
       "    <tr>\n",
       "      <th>3</th>\n",
       "      <td>7795-CFOCW</td>\n",
       "      <td>Male</td>\n",
       "      <td>No</td>\n",
       "      <td>No</td>\n",
       "      <td>No</td>\n",
       "      <td>45</td>\n",
       "      <td>No</td>\n",
       "      <td>No phone service</td>\n",
       "      <td>DSL</td>\n",
       "      <td>Yes</td>\n",
       "      <td>...</td>\n",
       "      <td>Yes</td>\n",
       "      <td>Yes</td>\n",
       "      <td>No</td>\n",
       "      <td>No</td>\n",
       "      <td>One year</td>\n",
       "      <td>No</td>\n",
       "      <td>Bank transfer (automatic)</td>\n",
       "      <td>42.30</td>\n",
       "      <td>1840.75</td>\n",
       "      <td>0</td>\n",
       "    </tr>\n",
       "    <tr>\n",
       "      <th>4</th>\n",
       "      <td>9237-HQITU</td>\n",
       "      <td>Female</td>\n",
       "      <td>No</td>\n",
       "      <td>No</td>\n",
       "      <td>No</td>\n",
       "      <td>2</td>\n",
       "      <td>Yes</td>\n",
       "      <td>No</td>\n",
       "      <td>Fiber optic</td>\n",
       "      <td>No</td>\n",
       "      <td>...</td>\n",
       "      <td>No</td>\n",
       "      <td>No</td>\n",
       "      <td>No</td>\n",
       "      <td>No</td>\n",
       "      <td>Month-to-month</td>\n",
       "      <td>Yes</td>\n",
       "      <td>Electronic check</td>\n",
       "      <td>70.70</td>\n",
       "      <td>151.65</td>\n",
       "      <td>1</td>\n",
       "    </tr>\n",
       "  </tbody>\n",
       "</table>\n",
       "<p>5 rows × 21 columns</p>\n",
       "</div>"
      ],
      "text/plain": [
       "   customerID  gender SeniorCitizen Partner Dependents  tenure PhoneService  \\\n",
       "0  7590-VHVEG  Female            No     Yes         No       1           No   \n",
       "1  5575-GNVDE    Male            No      No         No      34          Yes   \n",
       "2  3668-QPYBK    Male            No      No         No       2          Yes   \n",
       "3  7795-CFOCW    Male            No      No         No      45           No   \n",
       "4  9237-HQITU  Female            No      No         No       2          Yes   \n",
       "\n",
       "      MultipleLines InternetService OnlineSecurity  ... DeviceProtection  \\\n",
       "0  No phone service             DSL             No  ...               No   \n",
       "1                No             DSL            Yes  ...              Yes   \n",
       "2                No             DSL            Yes  ...               No   \n",
       "3  No phone service             DSL            Yes  ...              Yes   \n",
       "4                No     Fiber optic             No  ...               No   \n",
       "\n",
       "  TechSupport StreamingTV StreamingMovies        Contract PaperlessBilling  \\\n",
       "0          No          No              No  Month-to-month              Yes   \n",
       "1          No          No              No        One year               No   \n",
       "2          No          No              No  Month-to-month              Yes   \n",
       "3         Yes          No              No        One year               No   \n",
       "4          No          No              No  Month-to-month              Yes   \n",
       "\n",
       "               PaymentMethod MonthlyCharges  TotalCharges  Churn  \n",
       "0           Electronic check          29.85         29.85      0  \n",
       "1               Mailed check          56.95       1889.50      0  \n",
       "2               Mailed check          53.85        108.15      1  \n",
       "3  Bank transfer (automatic)          42.30       1840.75      0  \n",
       "4           Electronic check          70.70        151.65      1  \n",
       "\n",
       "[5 rows x 21 columns]"
      ]
     },
     "execution_count": 7,
     "metadata": {},
     "output_type": "execute_result"
    }
   ],
   "source": [
    "df['Churn'] = df['Churn'].apply(lambda x: 0 if x == \"No\" else 1)\n",
    "df['SeniorCitizen'] = df['SeniorCitizen'].apply(lambda x: \"No\" if x == 0 else \"Yes\")\n",
    "df.head()"
   ]
  },
  {
   "cell_type": "markdown",
   "id": "2ac0d1c9",
   "metadata": {},
   "source": [
    "Bin the **tenure** attribute into 10 buckets."
   ]
  },
  {
   "cell_type": "code",
   "execution_count": 8,
   "id": "5c6da9d0",
   "metadata": {},
   "outputs": [],
   "source": [
    "df['tenure_bins'] = pd.cut(df['tenure'], bins=10, include_lowest=True)"
   ]
  },
  {
   "cell_type": "markdown",
   "id": "7fb03e2e",
   "metadata": {},
   "source": [
    "Bin the **MonthlyCharges** attribute into 10 buckets."
   ]
  },
  {
   "cell_type": "code",
   "execution_count": 9,
   "id": "687d2ed0",
   "metadata": {},
   "outputs": [],
   "source": [
    "df['monthlyCharges_bins'] = pd.cut(df['MonthlyCharges'], bins=10, include_lowest=True)"
   ]
  },
  {
   "cell_type": "markdown",
   "id": "0ba21cc1",
   "metadata": {},
   "source": [
    "## Basic Analyses"
   ]
  },
  {
   "cell_type": "markdown",
   "id": "b39ee298",
   "metadata": {},
   "source": [
    "### Churned customer population\n",
    "(Note: 0 = Not churned, 1 = Churned)"
   ]
  },
  {
   "cell_type": "code",
   "execution_count": 22,
   "id": "210f1c17",
   "metadata": {},
   "outputs": [
    {
     "data": {
      "text/plain": [
       "0    5174\n",
       "1    1869\n",
       "Name: Churn, dtype: int64"
      ]
     },
     "execution_count": 22,
     "metadata": {},
     "output_type": "execute_result"
    },
    {
     "data": {
      "image/png": "[encoded data removed]",
      "text/plain": [
       "<Figure size 432x288 with 1 Axes>"
      ]
     },
     "metadata": {
      "needs_background": "light"
     },
     "output_type": "display_data"
    }
   ],
   "source": [
    "sns.countplot(x = \"Churn\", data = df)\n",
    "df.loc[:, 'Churn'].value_counts()"
   ]
  },
  {
   "cell_type": "markdown",
   "id": "88c62f6d",
   "metadata": {},
   "source": [
    "### (Pending) Highlight the counts by various attributes"
   ]
  },
  {
   "cell_type": "markdown",
   "id": "0e8799bc",
   "metadata": {},
   "source": [
    "### (Pending) Highlight the relationship between churn and the various attributes"
   ]
  },
  {
   "cell_type": "code",
   "execution_count": 10,
   "id": "e38c3ba4",
   "metadata": {},
   "outputs": [],
   "source": [
    "# def barall(df,lst,target,h=4,w=15,cut=3,hspace=.5,wspace=.25,rotatelst=[],rotation=20,xticksize=10,titlesize=11,yticksize=10):\n",
    "#     f=plt.figure(figsize=(w,h))\n",
    "#     plt.subplots_adjust(hspace=hspace,wspace=wspace)\n",
    "#     for i,col in enumerate(lst):\n",
    "#         f.add_subplot(math.ceil(len(lst)/cut),cut,i+1)\n",
    "#         sns.barplot(data=df,x=col,y=target)\n",
    "#         if col in rotatelst: plt.xticks(rotation=rotation)\n",
    "#         plt.xticks(fontsize=xticksize)\n",
    "#         plt.yticks(fontsize=yticksize)\n",
    "#         plt.xlabel('')\n",
    "#         plt.title(col,fontweight='bold',fontsize=titlesize)\n",
    "#         plt.ylabel('')\n",
    "#         despine()\n",
    "        \n",
    "# catcol=df.select_dtypes(\"O\").nunique().sort_values(ascending=False)[1:].index.tolist()\n",
    "# print(f\"We have {len(catcol)} categorical features\")\n",
    "\n",
    "# barall(df,catcol,'Churn',w=10,h=11,cut=4,\n",
    "#        rotatelst=['PaymentMethod','MultipleLines','OnlineSecurity','OnlineBackup','DeviceProtection','TechSupport',\n",
    "#                  'Contract','StreamingTV','StreamingMovies'],\n",
    "#        xticksize=8,rotation=27,hspace=1)\n",
    "\n",
    "# # Accredition: https://www.kaggle.com/muladpham/telco-customer-churn-moranfinan"
   ]
  },
  {
   "cell_type": "markdown",
   "id": "b9f1431d",
   "metadata": {},
   "source": [
    "### (Pending) Highlight the distribution of total charges and relationship with tenure"
   ]
  },
  {
   "cell_type": "markdown",
   "id": "1b3abc9b",
   "metadata": {},
   "source": [
    "### (Pending) Highlight the distribution of monthly charges and how this changes by various attributes"
   ]
  },
  {
   "cell_type": "markdown",
   "id": "c8b80780",
   "metadata": {},
   "source": [
    "By dividing the customer base into 10 discrete cohorts, one can see that a large proportion spend less than \\\\$28 dollars per month. A non-trivial proportion also spends above \\\\$100 per month."
   ]
  },
  {
   "cell_type": "code",
   "execution_count": 19,
   "id": "3233c9fd",
   "metadata": {},
   "outputs": [
    {
     "data": {
      "text/html": [
       "<div>\n",
       "<style scoped>\n",
       "    .dataframe tbody tr th:only-of-type {\n",
       "        vertical-align: middle;\n",
       "    }\n",
       "\n",
       "    .dataframe tbody tr th {\n",
       "        vertical-align: top;\n",
       "    }\n",
       "\n",
       "    .dataframe thead th {\n",
       "        text-align: right;\n",
       "    }\n",
       "</style>\n",
       "<table border=\"1\" class=\"dataframe\">\n",
       "  <thead>\n",
       "    <tr style=\"text-align: right;\">\n",
       "      <th></th>\n",
       "      <th>Customer Count</th>\n",
       "    </tr>\n",
       "    <tr>\n",
       "      <th>monthlyCharges_bins</th>\n",
       "      <th></th>\n",
       "    </tr>\n",
       "  </thead>\n",
       "  <tbody>\n",
       "    <tr>\n",
       "      <th>(18.148999999999997, 28.3]</th>\n",
       "      <td>1606</td>\n",
       "    </tr>\n",
       "    <tr>\n",
       "      <th>(28.3, 38.35]</th>\n",
       "      <td>191</td>\n",
       "    </tr>\n",
       "    <tr>\n",
       "      <th>(38.35, 48.4]</th>\n",
       "      <td>365</td>\n",
       "    </tr>\n",
       "    <tr>\n",
       "      <th>(48.4, 58.45]</th>\n",
       "      <td>640</td>\n",
       "    </tr>\n",
       "    <tr>\n",
       "      <th>(58.45, 68.5]</th>\n",
       "      <td>474</td>\n",
       "    </tr>\n",
       "    <tr>\n",
       "      <th>(68.5, 78.55]</th>\n",
       "      <td>893</td>\n",
       "    </tr>\n",
       "    <tr>\n",
       "      <th>(78.55, 88.6]</th>\n",
       "      <td>953</td>\n",
       "    </tr>\n",
       "    <tr>\n",
       "      <th>(88.6, 98.65]</th>\n",
       "      <td>873</td>\n",
       "    </tr>\n",
       "    <tr>\n",
       "      <th>(98.65, 108.7]</th>\n",
       "      <td>754</td>\n",
       "    </tr>\n",
       "    <tr>\n",
       "      <th>(108.7, 118.75]</th>\n",
       "      <td>294</td>\n",
       "    </tr>\n",
       "  </tbody>\n",
       "</table>\n",
       "</div>"
      ],
      "text/plain": [
       "                            Customer Count\n",
       "monthlyCharges_bins                       \n",
       "(18.148999999999997, 28.3]            1606\n",
       "(28.3, 38.35]                          191\n",
       "(38.35, 48.4]                          365\n",
       "(48.4, 58.45]                          640\n",
       "(58.45, 68.5]                          474\n",
       "(68.5, 78.55]                          893\n",
       "(78.55, 88.6]                          953\n",
       "(88.6, 98.65]                          873\n",
       "(98.65, 108.7]                         754\n",
       "(108.7, 118.75]                        294"
      ]
     },
     "execution_count": 19,
     "metadata": {},
     "output_type": "execute_result"
    }
   ],
   "source": [
    "mc_bin = df.groupby(by='monthlyCharges_bins').size().to_frame()\n",
    "mc_bin.columns = ['Customer Count']\n",
    "mc_bin"
   ]
  },
  {
   "cell_type": "markdown",
   "id": "3285610b",
   "metadata": {},
   "source": [
    "### (Pending) Highlight the relationship between churn and tenure (survivorship bias)"
   ]
  },
  {
   "cell_type": "markdown",
   "id": "e7196b6e",
   "metadata": {},
   "source": [
    "### (Pending) Feature Importance"
   ]
  }
 ],
 "metadata": {
  "kernelspec": {
   "display_name": "Python 3 (ipykernel)",
   "language": "python",
   "name": "python3"
  },
  "language_info": {
   "codemirror_mode": {
    "name": "ipython",
    "version": 3
   },
   "file_extension": ".py",
   "mimetype": "text/x-python",
   "name": "python",
   "nbconvert_exporter": "python",
   "pygments_lexer": "ipython3",
   "version": "3.7.11"
  }
 },
 "nbformat": 4,
 "nbformat_minor": 5
}
